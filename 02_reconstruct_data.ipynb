{
 "cells": [
  {
   "cell_type": "code",
   "execution_count": null,
   "metadata": {},
   "outputs": [],
   "source": [
    "from models import *\n",
    "\n",
    "import numpy as np\n",
    "import pandas as pd"
   ]
  },
  {
   "cell_type": "code",
   "execution_count": null,
   "metadata": {},
   "outputs": [],
   "source": [
    "# Define helper function\n",
    "    \n",
    "def save_reconstruction(data, vae_path, pca_path):\n",
    "    vae_rcon = pd.DataFrame(mtmodel.reconstruct(data.values),\n",
    "                            columns = data.columns)\n",
    "    vae_rcon.to_csv(vae_path, index=False)\n",
    "    \n",
    "    pca_recon = pd.DataFrame(PCA_model_.reconstruct(data),\n",
    "                             columns = data.columns)\n",
    "    pca_recon.to_csv(pca_path, index=False)"
   ]
  },
  {
   "cell_type": "code",
   "execution_count": null,
   "metadata": {},
   "outputs": [],
   "source": [
    "# Model and reconstruction paths\n",
    "model_path = 'models/'\n",
    "recon_path = 'results/reconstructions/'\n",
    "\n",
    "# VAE model paths\n",
    "path_vae     = model_path + 'VAE.h5'\n",
    "path_encoder = model_path + 'VAE_encoder.h5'\n",
    "path_decoder = model_path + 'VAE_decoder.h5'\n",
    "\n",
    "# Data paths\n",
    "twins_path  = 'data/TwinsUK.xls'"
   ]
  },
  {
   "cell_type": "code",
   "execution_count": null,
   "metadata": {},
   "outputs": [],
   "source": [
    "# Load datasets\n",
    "twins_train_df = pd.read_excel(twins_path, sheet_name='Training Set')\n",
    "twins_test_df  = pd.read_excel(twins_path, sheet_name='Testing Set')\n",
    "twins_full_data = pd.concat([twins_train_df, twins_test_df], ignore_index = True)"
   ]
  },
  {
   "cell_type": "code",
   "execution_count": null,
   "metadata": {},
   "outputs": [],
   "source": [
    "# Data & model configuration\n",
    "input_dim = twins_train_df.shape[1]\n",
    "intermediate_dim = 200\n",
    "latent_dim = 18\n",
    "\n",
    "# Note, to reconstruct Figure 2a and 2b, which shows\n",
    "# the correlation matrix MSE curve for varying latent dimensionalities d,\n",
    "# run the following code in a loop with \n",
    "# latent_dim = [5, 10, 15, 18, 20, 30, 40, 60, 80, 100, 120, 160, 200]\n",
    "\n",
    "kl_beta = 1e-2\n",
    "learning_rate = 1e-3\n",
    "\n",
    "# Instantiate model\n",
    "mtmodel = mtVAE(input_dim,\n",
    "                intermediate_dim,\n",
    "                latent_dim,\n",
    "                kl_beta,\n",
    "                learning_rate)\n",
    "\n",
    "\n",
    "# Load VAE model\n",
    "mtmodel.vae.load_weights(path_vae)\n",
    "mtmodel.encoder.load_weights(path_encoder)\n",
    "mtmodel.decoder.load_weights(path_decoder)\n",
    "\n",
    "\n",
    "######################\n",
    "# Define PCA model\n",
    "######################\n",
    "PCA_model_ = PCA_model(twins_train_df.values, latent_dim)"
   ]
  },
  {
   "cell_type": "markdown",
   "metadata": {},
   "source": [
    "## Create and save data reconstructions"
   ]
  },
  {
   "cell_type": "code",
   "execution_count": null,
   "metadata": {},
   "outputs": [],
   "source": [
    "# Create save paths for reconstructed data\n",
    "train_vae_recon = f'{recon_path}Twins_train_VAE_reconstruction_d_{latent_dim}.csv'\n",
    "train_pca_recon = f'{recon_path}Twins_train_PCA_reconstruction_d_{latent_dim}.csv'\n",
    "\n",
    "test_vae_recon = f'{recon_path}Twins_test_VAE_reconstruction_d_{latent_dim}.csv'\n",
    "test_pca_recon = f'{recon_path}Twins_test_PCA_reconstruction_d_{latent_dim}.csv'"
   ]
  },
  {
   "cell_type": "code",
   "execution_count": null,
   "metadata": {},
   "outputs": [],
   "source": [
    "# Twins reconstruction\n",
    "save_reconstruction(twins_train_df, train_vae_recon, train_pca_recon)\n",
    "save_reconstruction(twins_test_df, test_vae_recon, test_pca_recon)"
   ]
  },
  {
   "cell_type": "code",
   "execution_count": null,
   "metadata": {},
   "outputs": [],
   "source": []
  }
 ],
 "metadata": {
  "kernelspec": {
   "display_name": "Python 3",
   "language": "python",
   "name": "python3"
  },
  "language_info": {
   "codemirror_mode": {
    "name": "ipython",
    "version": 3
   },
   "file_extension": ".py",
   "mimetype": "text/x-python",
   "name": "python",
   "nbconvert_exporter": "python",
   "pygments_lexer": "ipython3",
   "version": "3.6.12"
  }
 },
 "nbformat": 4,
 "nbformat_minor": 4
}
